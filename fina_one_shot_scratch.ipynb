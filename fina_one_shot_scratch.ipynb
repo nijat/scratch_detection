{
  "nbformat": 4,
  "nbformat_minor": 0,
  "metadata": {
    "kernelspec": {
      "display_name": "Python 3",
      "language": "python",
      "name": "python3"
    },
    "language_info": {
      "codemirror_mode": {
        "name": "ipython",
        "version": 3
      },
      "file_extension": ".py",
      "mimetype": "text/x-python",
      "name": "python",
      "nbconvert_exporter": "python",
      "pygments_lexer": "ipython3",
      "version": "3.6.6"
    },
    "colab": {
      "name": "fina_one_shot_scratch.ipynb",
      "provenance": [],
      "collapsed_sections": [],
      "include_colab_link": true
    }
  },
  "cells": [
    {
      "cell_type": "markdown",
      "metadata": {
        "id": "view-in-github",
        "colab_type": "text"
      },
      "source": [
        "<a href=\"https://colab.research.google.com/github/rzaevnicat/scratch_detection/blob/master/fina_one_shot_scratch.ipynb\" target=\"_parent\"><img src=\"https://colab.research.google.com/assets/colab-badge.svg\" alt=\"Open In Colab\"/></a>"
      ]
    },
    {
      "cell_type": "code",
      "metadata": {
        "id": "sLeWx8LEcNm-",
        "colab_type": "code",
        "colab": {}
      },
      "source": [
        "features = {\"RS\":\"rolled-in scale\", \"Pa\":\"patches\", \"Cr\":\"crazing\", \"PS\":\"pitted surface\", \"In\":\"inclusion\", \"Sc\":\"scratches\"}"
      ],
      "execution_count": 0,
      "outputs": []
    },
    {
      "cell_type": "code",
      "metadata": {
        "id": "UEYisUJzcNnO",
        "colab_type": "code",
        "outputId": "8f52b9e9-45b4-42ea-810f-a97aa0532937",
        "colab": {
          "base_uri": "https://localhost:8080/",
          "height": 36
        }
      },
      "source": [
        "import os\n",
        "import numpy as np\n",
        "from skimage.io import imread\n",
        "from sklearn.model_selection import train_test_split\n",
        "import tensorflow.compat.v1 as tf\n",
        "\n",
        "\n",
        "from tensorflow.python.keras.models import Sequential\n",
        "from tensorflow.python.keras.optimizers import Adam\n",
        "from tensorflow.python.keras.layers import Conv2D, ZeroPadding2D, Activation, Input, concatenate\n",
        "from tensorflow.python.keras.models import Model\n",
        "from tensorflow.python.keras.layers import Dropout\n",
        "from tensorflow.python.keras.layers.normalization import BatchNormalization\n",
        "from tensorflow.python.keras.layers.pooling import MaxPooling2D\n",
        "from tensorflow.python.keras.layers.merge import Concatenate\n",
        "from tensorflow.python.keras.layers.core import Lambda, Flatten, Dense\n",
        "from tensorflow.python.keras.initializers import glorot_uniform\n",
        "from tensorflow.python.keras.utils import to_categorical\n",
        "from tensorflow.python.keras.preprocessing import image\n",
        "from tensorflow.python.keras.utils import to_categorical\n",
        "import matplotlib.pyplot as plt\n",
        "import matplotlib.image as mpimg\n",
        "import cv2\n",
        "import matplotlib.pyplot as plt\n",
        "import os\n",
        "from matplotlib import pyplot as plt\n",
        "\n",
        "# Please make sure that your tensorflow version is 2.0.0\n",
        "print(tf.__version__)"
      ],
      "execution_count": 0,
      "outputs": [
        {
          "output_type": "stream",
          "text": [
            "2.0.0\n"
          ],
          "name": "stdout"
        }
      ]
    },
    {
      "cell_type": "code",
      "metadata": {
        "id": "yeSgYFAScNnS",
        "colab_type": "code",
        "outputId": "45be9248-7185-4a46-a691-d5186d6f4c24",
        "colab": {
          "base_uri": "https://localhost:8080/",
          "height": 36
        }
      },
      "source": [
        "from google.colab import drive\n",
        "drive.mount('/content/drive')\n",
        "FOLDER_IMAGE = \"/content/drive/My Drive/data/data\"\n",
        "IMAGE_SIZE = 64"
      ],
      "execution_count": 0,
      "outputs": [
        {
          "output_type": "stream",
          "text": [
            "Drive already mounted at /content/drive; to attempt to forcibly remount, call drive.mount(\"/content/drive\", force_remount=True).\n"
          ],
          "name": "stdout"
        }
      ]
    },
    {
      "cell_type": "code",
      "metadata": {
        "id": "t95Yo5HveJya",
        "colab_type": "code",
        "colab": {}
      },
      "source": [
        "def label_class(strs):\n",
        "    if strs==\"RS\":\n",
        "      return 1\n",
        "    elif strs==\"Pa\":\n",
        "      return 2\n",
        "    elif strs==\"Cr\":\n",
        "      return 3\n",
        "    elif strs==\"PS\":\n",
        "      return 4\n",
        "    elif strs==\"In\":\n",
        "      return 5\n",
        "    elif strs==\"Sc\":\n",
        "      return 6"
      ],
      "execution_count": 0,
      "outputs": []
    },
    {
      "cell_type": "code",
      "metadata": {
        "id": "myHVsaB2cNnX",
        "colab_type": "code",
        "colab": {}
      },
      "source": [
        "def load_images():\n",
        "    train_image = []\n",
        "    y = []\n",
        "    for filename in os.listdir(FOLDER_IMAGE):\n",
        "        image_path = os.path.join(FOLDER_IMAGE, filename)\n",
        "        img = image.load_img(image_path, target_size=(IMAGE_SIZE,IMAGE_SIZE,1), color_mode='grayscale')\n",
        "        img = image.img_to_array(img)\n",
        "        img = img/255\n",
        "        train_image.append(img)\n",
        "        y.append(label_class(filename.split(\"_\")[0]))    \n",
        "        # break\n",
        "    X = np.array(train_image)\n",
        "    return X, y\n",
        "X, y  = load_images()\n"
      ],
      "execution_count": 0,
      "outputs": []
    },
    {
      "cell_type": "code",
      "metadata": {
        "id": "xKhLMJGssTLX",
        "colab_type": "code",
        "colab": {}
      },
      "source": [
        "y = to_categorical(y)\n",
        "X_train, X_test, y_train, y_test = train_test_split(X, y, random_state=42, test_size=0.2)"
      ],
      "execution_count": 0,
      "outputs": []
    },
    {
      "cell_type": "code",
      "metadata": {
        "id": "PSbM10k_GNpJ",
        "colab_type": "code",
        "colab": {}
      },
      "source": [
        "model = Sequential()\n",
        "model.add(Conv2D(32, kernel_size=(3, 3),activation='relu',input_shape=(IMAGE_SIZE,IMAGE_SIZE,1)))\n",
        "model.add(Conv2D(64, (3, 3), activation='relu'))\n",
        "model.add(MaxPooling2D(pool_size=(2, 2)))\n",
        "model.add(Dropout(0.25))\n",
        "model.add(Flatten())\n",
        "model.add(Dense(128, activation='relu'))\n",
        "model.add(Dropout(0.5))\n",
        "model.add(Dense(7, activation='softmax'))"
      ],
      "execution_count": 0,
      "outputs": []
    },
    {
      "cell_type": "code",
      "metadata": {
        "id": "5IztIO4TGeyT",
        "colab_type": "code",
        "colab": {}
      },
      "source": [
        "model.compile(loss='categorical_crossentropy',optimizer='Adam',metrics=['accuracy'])"
      ],
      "execution_count": 0,
      "outputs": []
    },
    {
      "cell_type": "code",
      "metadata": {
        "id": "NYbhEON8GgdL",
        "colab_type": "code",
        "outputId": "b9e543db-7e55-40dd-c585-ba1efc2e72f6",
        "colab": {
          "base_uri": "https://localhost:8080/",
          "height": 429
        }
      },
      "source": [
        "model.fit(X_train, y_train, epochs=10, validation_data=(X_test, y_test))"
      ],
      "execution_count": 0,
      "outputs": [
        {
          "output_type": "stream",
          "text": [
            "Train on 1440 samples, validate on 360 samples\n",
            "Epoch 1/10\n",
            "1440/1440 [==============================] - 27s 19ms/sample - loss: 1.7727 - accuracy: 0.2556 - val_loss: 1.4726 - val_accuracy: 0.3333\n",
            "Epoch 2/10\n",
            "1440/1440 [==============================] - 26s 18ms/sample - loss: 1.3115 - accuracy: 0.4472 - val_loss: 1.0142 - val_accuracy: 0.6750\n",
            "Epoch 3/10\n",
            "1440/1440 [==============================] - 25s 18ms/sample - loss: 1.0158 - accuracy: 0.6208 - val_loss: 0.7554 - val_accuracy: 0.8167\n",
            "Epoch 4/10\n",
            "1440/1440 [==============================] - 26s 18ms/sample - loss: 0.7675 - accuracy: 0.7368 - val_loss: 0.6095 - val_accuracy: 0.8056\n",
            "Epoch 5/10\n",
            "1440/1440 [==============================] - 25s 18ms/sample - loss: 0.6543 - accuracy: 0.7757 - val_loss: 0.4785 - val_accuracy: 0.8639\n",
            "Epoch 6/10\n",
            "1440/1440 [==============================] - 26s 18ms/sample - loss: 0.5830 - accuracy: 0.7993 - val_loss: 0.4274 - val_accuracy: 0.8306\n",
            "Epoch 7/10\n",
            "1440/1440 [==============================] - 26s 18ms/sample - loss: 0.5099 - accuracy: 0.8417 - val_loss: 0.3697 - val_accuracy: 0.8722\n",
            "Epoch 8/10\n",
            "1440/1440 [==============================] - 26s 18ms/sample - loss: 0.4393 - accuracy: 0.8521 - val_loss: 0.4135 - val_accuracy: 0.8750\n",
            "Epoch 9/10\n",
            "1440/1440 [==============================] - 26s 18ms/sample - loss: 0.4123 - accuracy: 0.8743 - val_loss: 0.3464 - val_accuracy: 0.8889\n",
            "Epoch 10/10\n",
            "1440/1440 [==============================] - 27s 19ms/sample - loss: 0.3526 - accuracy: 0.8819 - val_loss: 0.3845 - val_accuracy: 0.8806\n"
          ],
          "name": "stdout"
        },
        {
          "output_type": "execute_result",
          "data": {
            "text/plain": [
              "<tensorflow.python.keras.callbacks.History at 0x7f360cac7d30>"
            ]
          },
          "metadata": {
            "tags": []
          },
          "execution_count": 16
        }
      ]
    },
    {
      "cell_type": "code",
      "metadata": {
        "id": "8O5qNkKzfsSC",
        "colab_type": "code",
        "colab": {}
      },
      "source": [
        "prediction = model.predict_classes(X_test)\n",
        "prediction = to_categorical(prediction)"
      ],
      "execution_count": 0,
      "outputs": []
    },
    {
      "cell_type": "code",
      "metadata": {
        "id": "5HtQW8OOhguH",
        "colab_type": "code",
        "outputId": "32b98acd-d66b-4659-c98a-a4aa83758a60",
        "colab": {
          "base_uri": "https://localhost:8080/",
          "height": 118
        }
      },
      "source": [
        "n = 102\n",
        "print(prediction[n])\n",
        "print(y_test[n])\n",
        "img = image.array_to_img(X_test[n]*255)\n",
        "display(img)\n"
      ],
      "execution_count": 0,
      "outputs": [
        {
          "output_type": "stream",
          "text": [
            "[0. 0. 1. 0. 0. 0. 0.]\n",
            "[0. 0. 1. 0. 0. 0. 0.]\n"
          ],
          "name": "stdout"
        },
        {
          "output_type": "display_data",
          "data": {
            "image/png": "[encoded data removed]",
            "text/plain": [
              "<PIL.Image.Image image mode=L size=64x64 at 0x7F360A769C18>"
            ]
          },
          "metadata": {
            "tags": []
          }
        }
      ]
    }
  ]
}