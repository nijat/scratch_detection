{
  "nbformat": 4,
  "nbformat_minor": 0,
  "metadata": {
    "kernelspec": {
      "display_name": "Python 3",
      "language": "python",
      "name": "python3"
    },
    "language_info": {
      "codemirror_mode": {
        "name": "ipython",
        "version": 3
      },
      "file_extension": ".py",
      "mimetype": "text/x-python",
      "name": "python",
      "nbconvert_exporter": "python",
      "pygments_lexer": "ipython3",
      "version": "3.6.6"
    },
    "colab": {
      "name": "scratch_cnn_detection.ipynb",
      "provenance": [],
      "collapsed_sections": [],
      "include_colab_link": true
    }
  },
  "cells": [
    {
      "cell_type": "markdown",
      "metadata": {
        "id": "view-in-github",
        "colab_type": "text"
      },
      "source": [
        "<a href=\"https://colab.research.google.com/github/rzaevnicat/scratch_detection/blob/master/scratch_cnn_detection.ipynb\" target=\"_parent\"><img src=\"https://colab.research.google.com/assets/colab-badge.svg\" alt=\"Open In Colab\"/></a>"
      ]
    },
    {
      "cell_type": "code",
      "metadata": {
        "id": "uCeeXP6y2lLK",
        "colab_type": "code",
        "colab": {}
      },
      "source": [
        "%pip install --upgrade tensorflow==2.0.0 &> /dev/null\n",
        "%pip install gdown patool &> /dev/null"
      ],
      "execution_count": 0,
      "outputs": []
    },
    {
      "cell_type": "code",
      "metadata": {
        "id": "UEYisUJzcNnO",
        "colab_type": "code",
        "outputId": "6a74c4cb-4d6a-472f-9616-12c5b1c09419",
        "colab": {
          "base_uri": "https://localhost:8080/",
          "height": 35
        }
      },
      "source": [
        "import os\n",
        "import cv2\n",
        "import gdown\n",
        "import patoolib\n",
        "import numpy as np\n",
        "import tensorflow.compat.v1 as tf\n",
        "import matplotlib.pyplot as plt\n",
        "import matplotlib.image as mpimg\n",
        "\n",
        "from skimage.io import imread\n",
        "from sklearn.model_selection import train_test_split\n",
        "\n",
        "from tensorflow.python.keras.models import Sequential\n",
        "from tensorflow.python.keras.optimizers import Adam\n",
        "from tensorflow.python.keras.layers import Conv2D, ZeroPadding2D, Activation, Input, concatenate, Dropout\n",
        "from tensorflow.python.keras.models import Model\n",
        "from tensorflow.python.keras.layers.normalization import BatchNormalization\n",
        "from tensorflow.python.keras.layers.pooling import MaxPooling2D\n",
        "from tensorflow.python.keras.layers.merge import Concatenate\n",
        "from tensorflow.python.keras.layers.core import Lambda, Flatten, Dense\n",
        "from tensorflow.python.keras.initializers import glorot_uniform\n",
        "from tensorflow.python.keras.utils import to_categorical\n",
        "from tensorflow.python.keras.preprocessing import image\n",
        "from tensorflow.python.keras.utils import to_categorical\n",
        "\n",
        "# Please make sure that your tensorflow version is 2.0.0\n",
        "print(tf.__version__)"
      ],
      "execution_count": 3,
      "outputs": [
        {
          "output_type": "stream",
          "text": [
            "2.0.0\n"
          ],
          "name": "stdout"
        }
      ]
    },
    {
      "cell_type": "markdown",
      "metadata": {
        "id": "5twvyFWcNj96",
        "colab_type": "text"
      },
      "source": [
        "Downlaoding file from drive and extracting these files to 'data' folder"
      ]
    },
    {
      "cell_type": "code",
      "metadata": {
        "id": "yeSgYFAScNnS",
        "colab_type": "code",
        "outputId": "5988e31d-97e2-4f50-e37a-a9298e1fc9cb",
        "colab": {
          "base_uri": "https://localhost:8080/",
          "height": 164
        }
      },
      "source": [
        "%rm -rf data.rar\n",
        "%rm -rf data/\n",
        "url = 'https://drive.google.com/uc?id=0B5OUtBsSxu1Bdjh4dk1SeGYtNFU'\n",
        "output = 'data.rar'\n",
        "gdown.download(url, output, quiet=False)\n",
        "\n",
        "%mkdir data\n",
        "patoolib.extract_archive(\"data.rar\", outdir=\"data\")\n",
        "%rm -rf data.rar\n",
        "%mv data/'NEU surface defect database'/* data/\n",
        "%rm -rf data/'NEU surface defect database'\n",
        "%rm data/Thumbs.db\n",
        "FOLDER_IMAGE = \"data\""
      ],
      "execution_count": 4,
      "outputs": [
        {
          "output_type": "stream",
          "text": [
            "Downloading...\n",
            "From: https://drive.google.com/uc?id=0B5OUtBsSxu1Bdjh4dk1SeGYtNFU\n",
            "To: /content/data.rar\n",
            "50.8MB [00:00, 233MB/s]\n"
          ],
          "name": "stderr"
        },
        {
          "output_type": "stream",
          "text": [
            "patool: Extracting data.rar ...\n",
            "patool: running /usr/bin/unrar x -- /content/data.rar\n",
            "patool:     with cwd='data'\n",
            "patool: ... data.rar extracted to `data'.\n"
          ],
          "name": "stdout"
        }
      ]
    },
    {
      "cell_type": "code",
      "metadata": {
        "id": "Bd-S5eVHN6A0",
        "colab_type": "code",
        "colab": {}
      },
      "source": [
        "IMAGE_SIZE = 64"
      ],
      "execution_count": 0,
      "outputs": []
    },
    {
      "cell_type": "code",
      "metadata": {
        "id": "t95Yo5HveJya",
        "colab_type": "code",
        "colab": {}
      },
      "source": [
        "def label_class(strs=None,number=None):\n",
        "    if strs==\"RS\" or number==1:\n",
        "      # rolled-in scale\n",
        "      return 1, \"RS\"\n",
        "    elif strs==\"Pa\" or number==2:\n",
        "      # patches\n",
        "      return 2, \"Pa\"\n",
        "    elif strs==\"Cr\" or number==3:\n",
        "      # crazing\n",
        "      return 3, \"Cr\"\n",
        "    elif strs==\"PS\" or number==4:\n",
        "      # pitted surface\n",
        "      return 4, \"Ps\"\n",
        "    elif strs==\"In\" or number==5:\n",
        "      # inclusion\n",
        "      return 5, \"In\"\n",
        "    elif strs==\"Sc\" or number==6:\n",
        "      # scratches\n",
        "      return 6, \"Sc\""
      ],
      "execution_count": 0,
      "outputs": []
    },
    {
      "cell_type": "code",
      "metadata": {
        "id": "myHVsaB2cNnX",
        "colab_type": "code",
        "outputId": "ee6392f7-36cf-4b6a-dc25-a67a838106af",
        "colab": {
          "base_uri": "https://localhost:8080/",
          "height": 348
        }
      },
      "source": [
        "def load_images():\n",
        "    count = 0\n",
        "    train_image = []\n",
        "    y = []\n",
        "    for filename in os.listdir(FOLDER_IMAGE):\n",
        "        image_path = os.path.join(FOLDER_IMAGE, filename)\n",
        "        img = image.load_img(image_path, target_size=(IMAGE_SIZE,IMAGE_SIZE,1), color_mode='grayscale')\n",
        "        img = image.img_to_array(img)\n",
        "        img = img/255\n",
        "        train_image.append(img)\n",
        "        y.append(label_class(filename.split(\"_\")[0])[0])\n",
        "        count+=1    \n",
        "        if count%100==0:\n",
        "          print(count)\n",
        "    X = np.array(train_image)\n",
        "    return X, y\n",
        "X, y  = load_images()"
      ],
      "execution_count": 20,
      "outputs": [
        {
          "output_type": "stream",
          "text": [
            "100\n",
            "200\n",
            "300\n",
            "400\n",
            "500\n",
            "600\n",
            "700\n",
            "800\n",
            "900\n",
            "1000\n",
            "1100\n",
            "1200\n",
            "1300\n",
            "1400\n",
            "1500\n",
            "1600\n",
            "1700\n",
            "1800\n"
          ],
          "name": "stdout"
        }
      ]
    },
    {
      "cell_type": "code",
      "metadata": {
        "id": "xKhLMJGssTLX",
        "colab_type": "code",
        "colab": {}
      },
      "source": [
        "# convert to categorical\n",
        "y = to_categorical(y)\n",
        "X_train, X_test, y_train, y_test = train_test_split(X, y, random_state=42, test_size=0.2)"
      ],
      "execution_count": 0,
      "outputs": []
    },
    {
      "cell_type": "code",
      "metadata": {
        "id": "PSbM10k_GNpJ",
        "colab_type": "code",
        "colab": {}
      },
      "source": [
        "model = Sequential()\n",
        "model.add(Conv2D(32, kernel_size=(3, 3),activation='relu',input_shape=(IMAGE_SIZE, IMAGE_SIZE,1)))\n",
        "model.add(Conv2D(64, (3, 3), activation='relu'))\n",
        "model.add(MaxPooling2D(pool_size=(2, 2)))\n",
        "model.add(Dropout(0.25))\n",
        "model.add(Flatten())\n",
        "model.add(Dense(128, activation='relu'))\n",
        "model.add(Dropout(0.5))\n",
        "model.add(Dense(7, activation='softmax'))"
      ],
      "execution_count": 0,
      "outputs": []
    },
    {
      "cell_type": "code",
      "metadata": {
        "id": "5IztIO4TGeyT",
        "colab_type": "code",
        "colab": {}
      },
      "source": [
        "model.compile(loss='categorical_crossentropy',optimizer='Adam',metrics=['accuracy'])"
      ],
      "execution_count": 0,
      "outputs": []
    },
    {
      "cell_type": "code",
      "metadata": {
        "id": "NYbhEON8GgdL",
        "colab_type": "code",
        "outputId": "de675838-b01d-465a-ad42-894a0642c298",
        "colab": {
          "base_uri": "https://localhost:8080/",
          "height": 421
        }
      },
      "source": [
        "model.fit(X_train, y_train, epochs=10, validation_data=(X_test, y_test))"
      ],
      "execution_count": 11,
      "outputs": [
        {
          "output_type": "stream",
          "text": [
            "Train on 1440 samples, validate on 360 samples\n",
            "Epoch 1/10\n",
            "1440/1440 [==============================] - 28s 19ms/sample - loss: 1.6570 - accuracy: 0.2965 - val_loss: 1.3246 - val_accuracy: 0.4667\n",
            "Epoch 2/10\n",
            "1440/1440 [==============================] - 26s 18ms/sample - loss: 1.1682 - accuracy: 0.5132 - val_loss: 0.8938 - val_accuracy: 0.7222\n",
            "Epoch 3/10\n",
            "1440/1440 [==============================] - 26s 18ms/sample - loss: 0.8475 - accuracy: 0.7049 - val_loss: 0.5377 - val_accuracy: 0.8778\n",
            "Epoch 4/10\n",
            "1440/1440 [==============================] - 26s 18ms/sample - loss: 0.6245 - accuracy: 0.7694 - val_loss: 0.5643 - val_accuracy: 0.8250\n",
            "Epoch 5/10\n",
            "1440/1440 [==============================] - 26s 18ms/sample - loss: 0.5731 - accuracy: 0.8021 - val_loss: 0.3898 - val_accuracy: 0.8806\n",
            "Epoch 6/10\n",
            "1440/1440 [==============================] - 27s 18ms/sample - loss: 0.4235 - accuracy: 0.8597 - val_loss: 0.2935 - val_accuracy: 0.8861\n",
            "Epoch 7/10\n",
            "1440/1440 [==============================] - 26s 18ms/sample - loss: 0.4173 - accuracy: 0.8618 - val_loss: 0.3173 - val_accuracy: 0.8667\n",
            "Epoch 8/10\n",
            "1440/1440 [==============================] - 26s 18ms/sample - loss: 0.3531 - accuracy: 0.8792 - val_loss: 0.2585 - val_accuracy: 0.8972\n",
            "Epoch 9/10\n",
            "1440/1440 [==============================] - 26s 18ms/sample - loss: 0.3673 - accuracy: 0.8819 - val_loss: 0.2857 - val_accuracy: 0.9250\n",
            "Epoch 10/10\n",
            "1440/1440 [==============================] - 26s 18ms/sample - loss: 0.2542 - accuracy: 0.9146 - val_loss: 0.2767 - val_accuracy: 0.9222\n"
          ],
          "name": "stdout"
        },
        {
          "output_type": "execute_result",
          "data": {
            "text/plain": [
              "<tensorflow.python.keras.callbacks.History at 0x7ffb08d5af98>"
            ]
          },
          "metadata": {
            "tags": []
          },
          "execution_count": 11
        }
      ]
    },
    {
      "cell_type": "code",
      "metadata": {
        "id": "8O5qNkKzfsSC",
        "colab_type": "code",
        "colab": {}
      },
      "source": [
        "prediction = model.predict_classes(X_test)\n",
        "prediction = to_categorical(prediction)"
      ],
      "execution_count": 0,
      "outputs": []
    },
    {
      "cell_type": "code",
      "metadata": {
        "id": "5HtQW8OOhguH",
        "colab_type": "code",
        "outputId": "6c64f6d0-46cd-4acd-955d-8ddce2feab45",
        "colab": {
          "base_uri": "https://localhost:8080/",
          "height": 1000
        }
      },
      "source": [
        "for i in range(0,10):\n",
        "  n = 130+i\n",
        "  print(\"Actual: \"+str(label_class(number=np.argmax(y_test[n], axis=-1))))\n",
        "  print(\"Prediction: \"+str(label_class(number=np.argmax(prediction[n], axis=-1))))\n",
        "  img = image.array_to_img(X_test[n]*255)\n",
        "\n",
        "  img = img.resize((200,200),0)\n",
        "  display(img)"
      ],
      "execution_count": 23,
      "outputs": [
        {
          "output_type": "stream",
          "text": [
            "Actual: (1, 'RS')\n",
            "Prediction: (1, 'RS')\n"
          ],
          "name": "stdout"
        },
        {
          "output_type": "display_data",
          "data": {
            "image/png": "[encoded data removed]",
            "text/plain": [
              "<PIL.Image.Image image mode=L size=200x200 at 0x7FFB06C65278>"
            ]
          },
          "metadata": {
            "tags": []
          }
        },
        {
          "output_type": "stream",
          "text": [
            "Actual: (1, 'RS')\n",
            "Prediction: (1, 'RS')\n"
          ],
          "name": "stdout"
        },
        {
          "output_type": "display_data",
          "data": {
            "image/png": "[encoded data removed]",
            "text/plain": [
              "<PIL.Image.Image image mode=L size=200x200 at 0x7FFB06C65278>"
            ]
          },
          "metadata": {
            "tags": []
          }
        },
        {
          "output_type": "stream",
          "text": [
            "Actual: (3, 'Cr')\n",
            "Prediction: (3, 'Cr')\n"
          ],
          "name": "stdout"
        },
        {
          "output_type": "display_data",
          "data": {
            "image/png": "[encoded data removed]",
            "text/plain": [
              "<PIL.Image.Image image mode=L size=200x200 at 0x7FFB06C65278>"
            ]
          },
          "metadata": {
            "tags": []
          }
        },
        {
          "output_type": "stream",
          "text": [
            "Actual: (2, 'Pa')\n",
            "Prediction: (2, 'Pa')\n"
          ],
          "name": "stdout"
        },
        {
          "output_type": "display_data",
          "data": {
            "image/png": "[encoded data removed]",
            "text/plain": [
              "<PIL.Image.Image image mode=L size=200x200 at 0x7FFB06C65278>"
            ]
          },
          "metadata": {
            "tags": []
          }
        },
        {
          "output_type": "stream",
          "text": [
            "Actual: (3, 'Cr')\n",
            "Prediction: (3, 'Cr')\n"
          ],
          "name": "stdout"
        },
        {
          "output_type": "display_data",
          "data": {
            "image/png": "[encoded data removed]",
            "text/plain": [
              "<PIL.Image.Image image mode=L size=200x200 at 0x7FFB06C65278>"
            ]
          },
          "metadata": {
            "tags": []
          }
        },
        {
          "output_type": "stream",
          "text": [
            "Actual: (5, 'In')\n",
            "Prediction: (5, 'In')\n"
          ],
          "name": "stdout"
        },
        {
          "output_type": "display_data",
          "data": {
            "image/png": "[encoded data removed]",
            "text/plain": [
              "<PIL.Image.Image image mode=L size=200x200 at 0x7FFB06C65278>"
            ]
          },
          "metadata": {
            "tags": []
          }
        },
        {
          "output_type": "stream",
          "text": [
            "Actual: (1, 'RS')\n",
            "Prediction: (1, 'RS')\n"
          ],
          "name": "stdout"
        },
        {
          "output_type": "display_data",
          "data": {
            "image/png": "[encoded data removed]",
            "text/plain": [
              "<PIL.Image.Image image mode=L size=200x200 at 0x7FFB06C65278>"
            ]
          },
          "metadata": {
            "tags": []
          }
        },
        {
          "output_type": "stream",
          "text": [
            "Actual: (6, 'Sc')\n",
            "Prediction: (6, 'Sc')\n"
          ],
          "name": "stdout"
        },
        {
          "output_type": "display_data",
          "data": {
            "image/png": "[encoded data removed]",
            "text/plain": [
              "<PIL.Image.Image image mode=L size=200x200 at 0x7FFB06C65278>"
            ]
          },
          "metadata": {
            "tags": []
          }
        },
        {
          "output_type": "stream",
          "text": [
            "Actual: (5, 'In')\n",
            "Prediction: (5, 'In')\n"
          ],
          "name": "stdout"
        },
        {
          "output_type": "display_data",
          "data": {
            "image/png": "[encoded data removed]",
            "text/plain": [
              "<PIL.Image.Image image mode=L size=200x200 at 0x7FFB06C65278>"
            ]
          },
          "metadata": {
            "tags": []
          }
        },
        {
          "output_type": "stream",
          "text": [
            "Actual: (3, 'Cr')\n",
            "Prediction: (3, 'Cr')\n"
          ],
          "name": "stdout"
        },
        {
          "output_type": "display_data",
          "data": {
            "image/png": "[encoded data removed]",
            "text/plain": [
              "<PIL.Image.Image image mode=L size=200x200 at 0x7FFB06C65278>"
            ]
          },
          "metadata": {
            "tags": []
          }
        }
      ]
    }
  ]
}